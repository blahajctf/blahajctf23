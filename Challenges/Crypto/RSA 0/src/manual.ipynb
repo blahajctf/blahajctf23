{
 "cells": [
  {
   "cell_type": "markdown",
   "metadata": {},
   "source": [
    "# **User's Manual for RSA**"
   ]
  },
  {
   "cell_type": "markdown",
   "metadata": {},
   "source": [
    "> THE SOFTWARE IS PROVIDED “AS IS”, WITHOUT WARRANTY OF ANY KIND, EXPRESS OR IMPLIED, INCLUDING BUT NOT LIMITED TO THE WARRANTIES OF MERCHANTABILITY, FITNESS FOR A PARTICULAR PURPOSE AND NONINFRINGEMENT. IN NO EVENT SHALL THE AUTHORS OR COPYRIGHT HOLDERS BE LIABLE FOR ANY CLAIM, DAMAGES OR OTHER LIABILITY, WHETHER IN AN ACTION OF CONTRACT, TORT OR OTHERWISE, ARISING FROM, OUT OF OR IN CONNECTION WITH THE SOFTWARE OR THE USE OR OTHER DEALINGS IN THE SOFTWARE, ALTHOUGH YOU CAN STILL ASK US IF YOU NEED HELP :3c"
   ]
  },
  {
   "cell_type": "markdown",
   "metadata": {},
   "source": [
    "<div class=\"alert alert-block alert-danger\">\n",
    "If you downloaded a copy of this manual locally, do <strong>NOT</strong> run any of the code blocks; important data will be erased.\n",
    "</div>"
   ]
  },
  {
   "cell_type": "markdown",
   "metadata": {},
   "source": [
    "## Preface"
   ]
  },
  {
   "cell_type": "markdown",
   "metadata": {},
   "source": [
    "Thank you, esteemed customer(s), for purchasing 1 *perpetual* license of our patented <span style=\"color:#FFFFFF;text-shadow:0 0 0.5em #FFFFFF\">Really Simple Algorithm™</span>! It's so simple, this user manual will explain (almost) everything you need to get it off the ground in no time!\n",
    "\n",
    "You may know that an encryption scheme generally requires a key to encrypt and decrypt the plaintext and the ciphertext. Let me illustrate with an example:\n",
    "Let's say you want to send a secret message to your friend, Bob, perhaps \"I love blahaj!\" \n",
    "\n",
    "Now, of course, to keep it secret from the outside world, you encrypt it with your key (using whatever encryption you prefer). You then proceed to send Bob the encrypted message, without a care in the world. But wait! How will he read it if he can't decode it? Well, you'd just send him the key for him to decode it, right? However, if you were to do that, anyone listening in could just obtain the key and decrypt the original message. Thus, to stop eavesdroppers from just reading the key, you'd have to encrypt it with another key, which you'd encrypt again, and again, and again..."
   ]
  },
  {
   "cell_type": "markdown",
   "metadata": {},
   "source": [
    "## <span style=\"color:#FFFFFF;text-shadow:0 0 0.5em #FFFFFF\">The Really Simple Algorithm™</span>"
   ]
  },
  {
   "cell_type": "markdown",
   "metadata": {},
   "source": [
    "Such an encryption scheme, where the method of encryption and decryption are identical, is known as *symmetric*. Our patented <span style=\"color:#FFFFFF;text-shadow:0 0 0.5em #FFFFFF\">Really Simple Algorithm™</span>, however, is *asymmetric*; that is, the encryption and decryption processes differ, through use of two separate keys (a *public* key for encryption, and a *private* key for decryption).\n",
    "\n",
    "To make such an asymmetric scheme, we can exploit already existing asymmetries in nature, known as *trapdoor functions*; functions where it is easy to evaluate one way, but the inverse is very difficult without special knowledge. For the <span style=\"color:#FFFFFF;text-shadow:0 0 0.5em #FFFFFF\">Really Simple Algorithm™</span>, this trapdoor function is integer factorisation.\n",
    "\n",
    "To begin, let us first generate two primes, $p$ and $q$ , which we keep secret. For the purpose of simplicity, these can be any 2 primes. We will also calculate the modulus $N = pq$, which will be public.\n",
    "\n",
    "Now, we will need to find a public key $e$ and private key $d$ such that for some message $m$, $m^{ed} \\equiv m\\ (\\mathrm{mod}\\ N)$. Generally, only one is fixed (usually $e$) and the other is calculated from the above equation.\n",
    "\n",
    "From that, we can obtain the equations for encryption $(1)$ & decryption $(2)$:\n",
    "$$\n",
    "\\begin{align}\n",
    "c &\\equiv m^e \\ &(\\mathrm{mod}\\ N) \\\\\n",
    "m &\\equiv c^d \\ &(\\mathrm{mod}\\ N)\n",
    "\\end{align}\n",
    "$$\n",
    "\n",
    "of which form the core of the <span style=\"color:#FFFFFF;text-shadow:0 0 0.5em #FFFFFF\">Really Simple Algorithm™</span>."
   ]
  },
  {
   "cell_type": "markdown",
   "metadata": {},
   "source": [
    "## Security"
   ]
  },
  {
   "cell_type": "markdown",
   "metadata": {},
   "source": [
    "You may have some doubts on the security of such a wonderfully simple algorithm. \"What's stopping an attacker from just calculating $d$ from $e$ and decrypting the ciphertext? And what does this have to do with integer factorisation?\", you may wonder. \n",
    "\n",
    "To kill two birds with one stone, notice how we intentionally omitted *how* exactly one would obtain $d$ from $e$ (or vice versa). You may remember Fermat's little theorem:\n",
    "\n",
    "$$a^{p-1} \\equiv 1\\ (\\mathrm{mod}\\ p)$$\n",
    "\n",
    "There exists a generalisation to a non-prime modulus $n$, by Euler:\n",
    "\n",
    "$$a^{\\varphi(n)} \\equiv 1\\ (\\mathrm{mod}\\ n)$$\n",
    "\n",
    "where $a$ is coprime to $n$, and $\\varphi(n)$ is Euler's totient function, which counts the number of positive integers below $n$ that are coprime to $n$.\n",
    "\n",
    "Now, notice that, for any integer $k$,\n",
    "\n",
    "$$\n",
    "\\begin{align*}\n",
    "m^{ed} &\\equiv 1^km\\ &(\\mathrm{mod}\\ N) \\\\\n",
    "m^{ed} &\\equiv m^{k\\varphi(N)+1}\\ &(\\mathrm{mod}\\ N)\n",
    "\\end{align*}\n",
    "$$\n",
    "\n",
    "and thus\n",
    "$$\n",
    "\\begin{align*}\n",
    "ed &\\equiv 1 &(\\mathrm{mod}\\ \\varphi(N)) \\\\\n",
    "d &\\equiv e^{-1} &(\\mathrm{mod}\\ \\varphi(N))\n",
    "\\end{align*}\n",
    "$$\n",
    "\n",
    "which allows us to calculate $d$ as the multiplicative inverse of $e$, as long as we know $\\varphi(N)$. To obtain $\\varphi(N)$, we can use the identity that $\\varphi(ab) = \\varphi(a)\\varphi(b)$ for coprime $a$, $b$:\n",
    "\n",
    "$$\\varphi(N) = \\varphi(p)\\varphi(q) = (p-1)(q-1)$$\n",
    "\n",
    "and herein lies the security of the <span style=\"color:#FFFFFF;text-shadow:0 0 0.5em #FFFFFF\">Really Simple Algorithm™</span>: To calculate $d$ from $N$ and $e$, we must calculate $\\varphi(N) = (p-1)(q-1)$, which requires factorising $N$ to obtain $p$ and $q$!"
   ]
  },
  {
   "cell_type": "markdown",
   "metadata": {},
   "source": [
    "## Application"
   ]
  },
  {
   "cell_type": "markdown",
   "metadata": {},
   "source": [
    "Here, we will provide an example usage of the <span style=\"color:#FFFFFF;text-shadow:0 0 0.5em #FFFFFF\">Really Simple Algorithm™</span>. To encourage thorough reading, we have used the first half of the flag as the plaintext; your goal is to decrypt it with the provided information."
   ]
  },
  {
   "cell_type": "code",
   "execution_count": 64,
   "metadata": {},
   "outputs": [
    {
     "data": {
      "text/plain": [
       "42045009645450887212686031474524658488582934639618352254927085776871977440437"
      ]
     },
     "execution_count": 64,
     "metadata": {},
     "output_type": "execute_result"
    }
   ],
   "source": [
    "from Crypto.Util.number import bytes_to_long, getPrime\n",
    "from math import gcd\n",
    "\n",
    "#p & q\n",
    "p = 230115307858050157663752792038769502589 # getPrime(128)\n",
    "q = 182712788804936604983979668429911195033 # getPrime(128)\n",
    "\n",
    "N = p*q\n",
    "\n",
    "# public key\n",
    "e = 65537\n",
    "assert gcd(e, p-1) == 1 and gcd(e, q-1) == 1\n",
    "\n",
    "N"
   ]
  },
  {
   "cell_type": "code",
   "execution_count": 65,
   "metadata": {},
   "outputs": [
    {
     "data": {
      "text/plain": [
       "37814713539672821316905785692591641180288654985038053453462316411423429906938"
      ]
     },
     "execution_count": 65,
     "metadata": {},
     "output_type": "execute_result"
    }
   ],
   "source": [
    "# encryption\n",
    "flag1 = b\"REDACTED\"\n",
    "c = pow(bytes_to_long(flag1), e, N)\n",
    "\n",
    "c"
   ]
  },
  {
   "cell_type": "markdown",
   "metadata": {},
   "source": [
    "## Precautions"
   ]
  },
  {
   "cell_type": "markdown",
   "metadata": {},
   "source": [
    "### Factorisable Modulus"
   ]
  },
  {
   "cell_type": "markdown",
   "metadata": {},
   "source": [
    "As the security of the <span style=\"color:#FFFFFF;text-shadow:0 0 0.5em #FFFFFF\">Really Simple Algorithm™</span> depends on the difficulty of factorising the modulus, care must be taken to select $p, q$ so as to not make it more easily factorisable. For example, $p$ and $q$ should not be too small, or else $N$ may be easily factorisable by trial division; $p$ and $q$ should not be too close either for a similar reason."
   ]
  },
  {
   "cell_type": "markdown",
   "metadata": {},
   "source": [
    "### Low Public Exponent Attack"
   ]
  },
  {
   "cell_type": "markdown",
   "metadata": {},
   "source": [
    "The <span style=\"color:#FFFFFF;text-shadow:0 0 0.5em #FFFFFF\">Really Simple Algorithm™</span> generally uses Fermat primes for the public exponent $e$; the smallest of which is $3$, which has the upside of being very cheap to compute when used in the <span style=\"color:#FFFFFF;text-shadow:0 0 0.5em #FFFFFF\">Really Simple Algorithm™</span>. However, if the plaintext & public exponent is too small and modulus too big, there is a possibility of $c = m^e < N$, making the ciphertext trivially decryptable by a simple $e$ th-root.\n",
    "\n",
    "This attack is illustrated below, with the second part of the flag:"
   ]
  },
  {
   "cell_type": "code",
   "execution_count": 55,
   "metadata": {},
   "outputs": [
    {
     "data": {
      "text/plain": [
       "43512041389227605596402137631053240847706952543011775018199827061466990921881"
      ]
     },
     "execution_count": 55,
     "metadata": {},
     "output_type": "execute_result"
    }
   ],
   "source": [
    "#p & q\n",
    "p = getPrime(128)\n",
    "q = getPrime(128)\n",
    "\n",
    "N = p*q\n",
    "\n",
    "# public key\n",
    "e = 3\n",
    "assert gcd(e, p-1) == 1 and gcd(e, q-1) == 1\n",
    "\n",
    "N"
   ]
  },
  {
   "cell_type": "code",
   "execution_count": 56,
   "metadata": {},
   "outputs": [
    {
     "data": {
      "text/plain": [
       "8592206451542845087530438337780735965391588022391063847102439291373669"
      ]
     },
     "execution_count": 56,
     "metadata": {},
     "output_type": "execute_result"
    }
   ],
   "source": [
    "# encryption\n",
    "flag2 = b\"REDACTED\"\n",
    "c = pow(bytes_to_long(flag2), e, N)\n",
    "\n",
    "c"
   ]
  },
  {
   "cell_type": "markdown",
   "metadata": {},
   "source": [
    "As such, to prevent this attack from occurring, a larger $e$ is recommended; if one still requires the speedup from an $e$ of $3$, ensure that the plaintext is padded before encryption."
   ]
  }
 ],
 "metadata": {
  "kernelspec": {
   "display_name": "Python 3",
   "language": "python",
   "name": "python3"
  },
  "language_info": {
   "codemirror_mode": {
    "name": "ipython",
    "version": 3
   },
   "file_extension": ".py",
   "mimetype": "text/x-python",
   "name": "python",
   "nbconvert_exporter": "python",
   "pygments_lexer": "ipython3",
   "version": "3.8.5"
  }
 },
 "nbformat": 4,
 "nbformat_minor": 2
}
